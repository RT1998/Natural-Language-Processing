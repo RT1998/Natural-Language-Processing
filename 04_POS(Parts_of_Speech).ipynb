{
  "nbformat": 4,
  "nbformat_minor": 0,
  "metadata": {
    "colab": {
      "provenance": []
    },
    "kernelspec": {
      "name": "python3",
      "display_name": "Python 3"
    },
    "language_info": {
      "name": "python"
    }
  },
  "cells": [
    {
      "cell_type": "markdown",
      "source": [
        "\n",
        "Part-of-Speech (POS) Tagging is a crucial task in Natural Language Processing (NLP), where each word in a sentence is assigned a grammatical category (POS) such as noun, verb, adjective, etc. This helps in understanding the grammatical structure of a sentence, which is fundamental for many downstream tasks such as syntactic parsing, machine translation, and sentiment analysis.\n",
        "\n",
        "### What is Part-of-Speech Tagging?\n",
        "POS tagging is the process of identifying the part of speech for each word in a sentence. POS tags include categories like:\n",
        "- **Noun (NN)**: Represents things, people, places, or ideas.\n",
        "- **Verb (VB)**: Represents actions or states of being.\n",
        "- **Adjective (JJ)**: Describes or modifies nouns.\n",
        "- **Adverb (RB)**: Describes or modifies verbs, adjectives, or other adverbs.\n",
        "- **Pronoun (PRP)**: Replaces nouns in a sentence.\n",
        "- **Preposition (IN)**: Shows relationships between words in a sentence.\n",
        "- **Conjunction (CC)**: Joins words or phrases.\n",
        "- **Interjection (UH)**: Words or phrases expressing strong emotions.\n"
      ],
      "metadata": {
        "id": "e8DykJZ2r2SF"
      }
    },
    {
      "cell_type": "code",
      "source": [
        "import nltk\n",
        "nltk.download('punkt')\n",
        "nltk.download('averaged_perceptron_tagger')"
      ],
      "metadata": {
        "colab": {
          "base_uri": "https://localhost:8080/"
        },
        "id": "-o60aJ-Qs9PK",
        "outputId": "dfe4cd05-af63-442b-a24c-7d32041cb9b1"
      },
      "execution_count": null,
      "outputs": [
        {
          "output_type": "stream",
          "name": "stderr",
          "text": [
            "[nltk_data] Downloading package punkt to /root/nltk_data...\n",
            "[nltk_data]   Package punkt is already up-to-date!\n",
            "[nltk_data] Downloading package averaged_perceptron_tagger to\n",
            "[nltk_data]     /root/nltk_data...\n",
            "[nltk_data]   Unzipping taggers/averaged_perceptron_tagger.zip.\n"
          ]
        },
        {
          "output_type": "execute_result",
          "data": {
            "text/plain": [
              "True"
            ]
          },
          "metadata": {},
          "execution_count": 3
        }
      ]
    },
    {
      "cell_type": "code",
      "source": [
        "from nltk.tokenize import word_tokenize\n",
        "from nltk import pos_tag\n",
        "\n",
        "# Tokenize and POS tagging\n",
        "sentence = \"I love programming in Python.\"\n",
        "tokens = word_tokenize(sentence)\n",
        "tagged_tokens = pos_tag(tokens)\n",
        "print(tagged_tokens)"
      ],
      "metadata": {
        "colab": {
          "base_uri": "https://localhost:8080/"
        },
        "id": "-juHO5sCr40c",
        "outputId": "21660d76-6c19-4efd-c618-eb42b2effe08"
      },
      "execution_count": null,
      "outputs": [
        {
          "output_type": "stream",
          "name": "stdout",
          "text": [
            "[('I', 'PRP'), ('love', 'VBP'), ('programming', 'VBG'), ('in', 'IN'), ('Python', 'NNP'), ('.', '.')]\n"
          ]
        }
      ]
    },
    {
      "cell_type": "code",
      "source": [
        "import spacy\n",
        "\n",
        "# Load pre-trained SpaCy model\n",
        "nlp = spacy.load(\"en_core_web_sm\")\n",
        "\n",
        "# Process the sentence with SpaCy\n",
        "text = \"I love programming in Python.\"\n",
        "doc = nlp(text)\n",
        "\n",
        "# Print tokens and their POS tags\n",
        "for token in doc:\n",
        "    print(f\"{token.text} | {token.pos_} | {spacy.explain(token.tag_)}\")\n"
      ],
      "metadata": {
        "colab": {
          "base_uri": "https://localhost:8080/"
        },
        "id": "DWN4dBA9tDAf",
        "outputId": "dd05f854-bd96-422a-9551-20ca4584ba21"
      },
      "execution_count": 1,
      "outputs": [
        {
          "output_type": "stream",
          "name": "stdout",
          "text": [
            "I | PRON | pronoun, personal\n",
            "love | VERB | verb, non-3rd person singular present\n",
            "programming | NOUN | noun, singular or mass\n",
            "in | ADP | conjunction, subordinating or preposition\n",
            "Python | PROPN | noun, proper singular\n",
            ". | PUNCT | punctuation mark, sentence closer\n"
          ]
        }
      ]
    },
    {
      "cell_type": "code",
      "source": [
        "for token in doc:\n",
        "    print(token,\" | \", token.pos_, \" | \", spacy.explain(token.pos_), \" | \", token.tag_, \" | \", spacy.explain(token.tag_))"
      ],
      "metadata": {
        "colab": {
          "base_uri": "https://localhost:8080/"
        },
        "id": "eFODX4O_w1TC",
        "outputId": "122ffbde-0aba-4e15-a3ca-bf6e44b8f1ea"
      },
      "execution_count": 2,
      "outputs": [
        {
          "output_type": "stream",
          "name": "stdout",
          "text": [
            "I  |  PRON  |  pronoun  |  PRP  |  pronoun, personal\n",
            "love  |  VERB  |  verb  |  VBP  |  verb, non-3rd person singular present\n",
            "programming  |  NOUN  |  noun  |  NN  |  noun, singular or mass\n",
            "in  |  ADP  |  adposition  |  IN  |  conjunction, subordinating or preposition\n",
            "Python  |  PROPN  |  proper noun  |  NNP  |  noun, proper singular\n",
            ".  |  PUNCT  |  punctuation  |  .  |  punctuation mark, sentence closer\n"
          ]
        }
      ]
    },
    {
      "cell_type": "code",
      "source": [
        "filtered_tokens = []\n",
        "\n",
        "for token in doc:\n",
        "    if token.pos_ not in [\"SPACE\", \"PUNCT\", \"X\"]:\n",
        "        print(token,\" | \", token.pos_, \" | \", spacy.explain(token.pos_), \" | \", token.tag_, \" | \", spacy.explain(token.tag_))"
      ],
      "metadata": {
        "colab": {
          "base_uri": "https://localhost:8080/"
        },
        "id": "bplCYIEYx2ba",
        "outputId": "393c392d-0ef8-4c73-de9b-c3fdc5f5575e"
      },
      "execution_count": 5,
      "outputs": [
        {
          "output_type": "stream",
          "name": "stdout",
          "text": [
            "I  |  PRON  |  pronoun  |  PRP  |  pronoun, personal\n",
            "love  |  VERB  |  verb  |  VBP  |  verb, non-3rd person singular present\n",
            "programming  |  NOUN  |  noun  |  NN  |  noun, singular or mass\n",
            "in  |  ADP  |  adposition  |  IN  |  conjunction, subordinating or preposition\n",
            "Python  |  PROPN  |  proper noun  |  NNP  |  noun, proper singular\n"
          ]
        }
      ]
    }
  ]
}