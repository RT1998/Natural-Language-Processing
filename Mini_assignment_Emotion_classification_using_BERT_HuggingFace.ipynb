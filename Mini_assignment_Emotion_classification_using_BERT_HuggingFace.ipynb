{
  "nbformat": 4,
  "nbformat_minor": 0,
  "metadata": {
    "colab": {
      "provenance": [],
      "gpuType": "T4"
    },
    "kernelspec": {
      "name": "python3",
      "display_name": "Python 3"
    },
    "language_info": {
      "name": "python"
    },
    "accelerator": "GPU"
  },
  "cells": [
    {
      "cell_type": "code",
      "execution_count": null,
      "metadata": {
        "id": "sLz8dMKLpr4y"
      },
      "outputs": [],
      "source": [
        "# installing Hugging face libraries\n",
        "!pip install -q -U watermark\n",
        "!pip install -qq transformers"
      ]
    },
    {
      "cell_type": "code",
      "source": [
        "# importing Libraries\n",
        "\n",
        "import torch\n",
        "\n",
        "import copy\n",
        "import numpy as np\n",
        "import pandas as pd\n",
        "import seaborn as sns\n",
        "from pylab import rcParams\n",
        "import matplotlib.pyplot as plt\n",
        "from matplotlib import rc\n",
        "from sklearn.model_selection import train_test_split\n",
        "\n",
        "from torch import nn, optim\n",
        "\n",
        "import torch.nn.functional as F"
      ],
      "metadata": {
        "id": "eSxFgM2tsffs"
      },
      "execution_count": null,
      "outputs": []
    },
    {
      "cell_type": "code",
      "source": [
        "device = torch.device(\"cuda\" if torch.cuda.is_available() else \"cpu\")\n",
        "device"
      ],
      "metadata": {
        "id": "jeDUBB2Tshx9",
        "colab": {
          "base_uri": "https://localhost:8080/"
        },
        "outputId": "7b9c8631-1ed7-4224-b0d5-4d900fbfb1a8"
      },
      "execution_count": null,
      "outputs": [
        {
          "output_type": "execute_result",
          "data": {
            "text/plain": [
              "device(type='cuda')"
            ]
          },
          "metadata": {},
          "execution_count": 3
        }
      ]
    },
    {
      "cell_type": "code",
      "source": [
        "train_path = '/content/Emotion_Classify/train.txt'\n",
        "val_path = '/content/Emotion_Classify/val.txt'\n",
        "test_path = '/content/Emotion_Classify/test.txt'"
      ],
      "metadata": {
        "id": "fkrgQf6PjyGQ"
      },
      "execution_count": null,
      "outputs": []
    },
    {
      "cell_type": "code",
      "source": [
        "with open(train_path, 'r', encoding='utf-8') as file:\n",
        "    lines = file.readlines()\n",
        "\n",
        "train_data = [line.strip().split(';') for line in lines]\n",
        "df_train = pd.DataFrame(train_data, columns=['comment', 'label'])\n",
        "df_train = df_train[:len(df_train) // 2]\n",
        "\n"
      ],
      "metadata": {
        "id": "f0dpyzgQj7DL"
      },
      "execution_count": null,
      "outputs": []
    },
    {
      "cell_type": "code",
      "source": [
        "df_train.head(5)"
      ],
      "metadata": {
        "colab": {
          "base_uri": "https://localhost:8080/",
          "height": 206
        },
        "id": "ewpJujGGuESM",
        "outputId": "98521852-021e-4643-bb66-95130d197fe7"
      },
      "execution_count": null,
      "outputs": [
        {
          "output_type": "execute_result",
          "data": {
            "text/plain": [
              "                                             comment    label\n",
              "0                            i didnt feel humiliated  sadness\n",
              "1  i can go from feeling so hopeless to so damned...  sadness\n",
              "2   im grabbing a minute to post i feel greedy wrong    anger\n",
              "3  i am ever feeling nostalgic about the fireplac...     love\n",
              "4                               i am feeling grouchy    anger"
            ],
            "text/html": [
              "\n",
              "  <div id=\"df-b0b011fe-7d3a-4795-a10b-e463512eaaa6\" class=\"colab-df-container\">\n",
              "    <div>\n",
              "<style scoped>\n",
              "    .dataframe tbody tr th:only-of-type {\n",
              "        vertical-align: middle;\n",
              "    }\n",
              "\n",
              "    .dataframe tbody tr th {\n",
              "        vertical-align: top;\n",
              "    }\n",
              "\n",
              "    .dataframe thead th {\n",
              "        text-align: right;\n",
              "    }\n",
              "</style>\n",
              "<table border=\"1\" class=\"dataframe\">\n",
              "  <thead>\n",
              "    <tr style=\"text-align: right;\">\n",
              "      <th></th>\n",
              "      <th>comment</th>\n",
              "      <th>label</th>\n",
              "    </tr>\n",
              "  </thead>\n",
              "  <tbody>\n",
              "    <tr>\n",
              "      <th>0</th>\n",
              "      <td>i didnt feel humiliated</td>\n",
              "      <td>sadness</td>\n",
              "    </tr>\n",
              "    <tr>\n",
              "      <th>1</th>\n",
              "      <td>i can go from feeling so hopeless to so damned...</td>\n",
              "      <td>sadness</td>\n",
              "    </tr>\n",
              "    <tr>\n",
              "      <th>2</th>\n",
              "      <td>im grabbing a minute to post i feel greedy wrong</td>\n",
              "      <td>anger</td>\n",
              "    </tr>\n",
              "    <tr>\n",
              "      <th>3</th>\n",
              "      <td>i am ever feeling nostalgic about the fireplac...</td>\n",
              "      <td>love</td>\n",
              "    </tr>\n",
              "    <tr>\n",
              "      <th>4</th>\n",
              "      <td>i am feeling grouchy</td>\n",
              "      <td>anger</td>\n",
              "    </tr>\n",
              "  </tbody>\n",
              "</table>\n",
              "</div>\n",
              "    <div class=\"colab-df-buttons\">\n",
              "\n",
              "  <div class=\"colab-df-container\">\n",
              "    <button class=\"colab-df-convert\" onclick=\"convertToInteractive('df-b0b011fe-7d3a-4795-a10b-e463512eaaa6')\"\n",
              "            title=\"Convert this dataframe to an interactive table.\"\n",
              "            style=\"display:none;\">\n",
              "\n",
              "  <svg xmlns=\"http://www.w3.org/2000/svg\" height=\"24px\" viewBox=\"0 -960 960 960\">\n",
              "    <path d=\"M120-120v-720h720v720H120Zm60-500h600v-160H180v160Zm220 220h160v-160H400v160Zm0 220h160v-160H400v160ZM180-400h160v-160H180v160Zm440 0h160v-160H620v160ZM180-180h160v-160H180v160Zm440 0h160v-160H620v160Z\"/>\n",
              "  </svg>\n",
              "    </button>\n",
              "\n",
              "  <style>\n",
              "    .colab-df-container {\n",
              "      display:flex;\n",
              "      gap: 12px;\n",
              "    }\n",
              "\n",
              "    .colab-df-convert {\n",
              "      background-color: #E8F0FE;\n",
              "      border: none;\n",
              "      border-radius: 50%;\n",
              "      cursor: pointer;\n",
              "      display: none;\n",
              "      fill: #1967D2;\n",
              "      height: 32px;\n",
              "      padding: 0 0 0 0;\n",
              "      width: 32px;\n",
              "    }\n",
              "\n",
              "    .colab-df-convert:hover {\n",
              "      background-color: #E2EBFA;\n",
              "      box-shadow: 0px 1px 2px rgba(60, 64, 67, 0.3), 0px 1px 3px 1px rgba(60, 64, 67, 0.15);\n",
              "      fill: #174EA6;\n",
              "    }\n",
              "\n",
              "    .colab-df-buttons div {\n",
              "      margin-bottom: 4px;\n",
              "    }\n",
              "\n",
              "    [theme=dark] .colab-df-convert {\n",
              "      background-color: #3B4455;\n",
              "      fill: #D2E3FC;\n",
              "    }\n",
              "\n",
              "    [theme=dark] .colab-df-convert:hover {\n",
              "      background-color: #434B5C;\n",
              "      box-shadow: 0px 1px 3px 1px rgba(0, 0, 0, 0.15);\n",
              "      filter: drop-shadow(0px 1px 2px rgba(0, 0, 0, 0.3));\n",
              "      fill: #FFFFFF;\n",
              "    }\n",
              "  </style>\n",
              "\n",
              "    <script>\n",
              "      const buttonEl =\n",
              "        document.querySelector('#df-b0b011fe-7d3a-4795-a10b-e463512eaaa6 button.colab-df-convert');\n",
              "      buttonEl.style.display =\n",
              "        google.colab.kernel.accessAllowed ? 'block' : 'none';\n",
              "\n",
              "      async function convertToInteractive(key) {\n",
              "        const element = document.querySelector('#df-b0b011fe-7d3a-4795-a10b-e463512eaaa6');\n",
              "        const dataTable =\n",
              "          await google.colab.kernel.invokeFunction('convertToInteractive',\n",
              "                                                    [key], {});\n",
              "        if (!dataTable) return;\n",
              "\n",
              "        const docLinkHtml = 'Like what you see? Visit the ' +\n",
              "          '<a target=\"_blank\" href=https://colab.research.google.com/notebooks/data_table.ipynb>data table notebook</a>'\n",
              "          + ' to learn more about interactive tables.';\n",
              "        element.innerHTML = '';\n",
              "        dataTable['output_type'] = 'display_data';\n",
              "        await google.colab.output.renderOutput(dataTable, element);\n",
              "        const docLink = document.createElement('div');\n",
              "        docLink.innerHTML = docLinkHtml;\n",
              "        element.appendChild(docLink);\n",
              "      }\n",
              "    </script>\n",
              "  </div>\n",
              "\n",
              "\n",
              "<div id=\"df-5d07778a-5794-42af-87d3-4aea61716301\">\n",
              "  <button class=\"colab-df-quickchart\" onclick=\"quickchart('df-5d07778a-5794-42af-87d3-4aea61716301')\"\n",
              "            title=\"Suggest charts\"\n",
              "            style=\"display:none;\">\n",
              "\n",
              "<svg xmlns=\"http://www.w3.org/2000/svg\" height=\"24px\"viewBox=\"0 0 24 24\"\n",
              "     width=\"24px\">\n",
              "    <g>\n",
              "        <path d=\"M19 3H5c-1.1 0-2 .9-2 2v14c0 1.1.9 2 2 2h14c1.1 0 2-.9 2-2V5c0-1.1-.9-2-2-2zM9 17H7v-7h2v7zm4 0h-2V7h2v10zm4 0h-2v-4h2v4z\"/>\n",
              "    </g>\n",
              "</svg>\n",
              "  </button>\n",
              "\n",
              "<style>\n",
              "  .colab-df-quickchart {\n",
              "      --bg-color: #E8F0FE;\n",
              "      --fill-color: #1967D2;\n",
              "      --hover-bg-color: #E2EBFA;\n",
              "      --hover-fill-color: #174EA6;\n",
              "      --disabled-fill-color: #AAA;\n",
              "      --disabled-bg-color: #DDD;\n",
              "  }\n",
              "\n",
              "  [theme=dark] .colab-df-quickchart {\n",
              "      --bg-color: #3B4455;\n",
              "      --fill-color: #D2E3FC;\n",
              "      --hover-bg-color: #434B5C;\n",
              "      --hover-fill-color: #FFFFFF;\n",
              "      --disabled-bg-color: #3B4455;\n",
              "      --disabled-fill-color: #666;\n",
              "  }\n",
              "\n",
              "  .colab-df-quickchart {\n",
              "    background-color: var(--bg-color);\n",
              "    border: none;\n",
              "    border-radius: 50%;\n",
              "    cursor: pointer;\n",
              "    display: none;\n",
              "    fill: var(--fill-color);\n",
              "    height: 32px;\n",
              "    padding: 0;\n",
              "    width: 32px;\n",
              "  }\n",
              "\n",
              "  .colab-df-quickchart:hover {\n",
              "    background-color: var(--hover-bg-color);\n",
              "    box-shadow: 0 1px 2px rgba(60, 64, 67, 0.3), 0 1px 3px 1px rgba(60, 64, 67, 0.15);\n",
              "    fill: var(--button-hover-fill-color);\n",
              "  }\n",
              "\n",
              "  .colab-df-quickchart-complete:disabled,\n",
              "  .colab-df-quickchart-complete:disabled:hover {\n",
              "    background-color: var(--disabled-bg-color);\n",
              "    fill: var(--disabled-fill-color);\n",
              "    box-shadow: none;\n",
              "  }\n",
              "\n",
              "  .colab-df-spinner {\n",
              "    border: 2px solid var(--fill-color);\n",
              "    border-color: transparent;\n",
              "    border-bottom-color: var(--fill-color);\n",
              "    animation:\n",
              "      spin 1s steps(1) infinite;\n",
              "  }\n",
              "\n",
              "  @keyframes spin {\n",
              "    0% {\n",
              "      border-color: transparent;\n",
              "      border-bottom-color: var(--fill-color);\n",
              "      border-left-color: var(--fill-color);\n",
              "    }\n",
              "    20% {\n",
              "      border-color: transparent;\n",
              "      border-left-color: var(--fill-color);\n",
              "      border-top-color: var(--fill-color);\n",
              "    }\n",
              "    30% {\n",
              "      border-color: transparent;\n",
              "      border-left-color: var(--fill-color);\n",
              "      border-top-color: var(--fill-color);\n",
              "      border-right-color: var(--fill-color);\n",
              "    }\n",
              "    40% {\n",
              "      border-color: transparent;\n",
              "      border-right-color: var(--fill-color);\n",
              "      border-top-color: var(--fill-color);\n",
              "    }\n",
              "    60% {\n",
              "      border-color: transparent;\n",
              "      border-right-color: var(--fill-color);\n",
              "    }\n",
              "    80% {\n",
              "      border-color: transparent;\n",
              "      border-right-color: var(--fill-color);\n",
              "      border-bottom-color: var(--fill-color);\n",
              "    }\n",
              "    90% {\n",
              "      border-color: transparent;\n",
              "      border-bottom-color: var(--fill-color);\n",
              "    }\n",
              "  }\n",
              "</style>\n",
              "\n",
              "  <script>\n",
              "    async function quickchart(key) {\n",
              "      const quickchartButtonEl =\n",
              "        document.querySelector('#' + key + ' button');\n",
              "      quickchartButtonEl.disabled = true;  // To prevent multiple clicks.\n",
              "      quickchartButtonEl.classList.add('colab-df-spinner');\n",
              "      try {\n",
              "        const charts = await google.colab.kernel.invokeFunction(\n",
              "            'suggestCharts', [key], {});\n",
              "      } catch (error) {\n",
              "        console.error('Error during call to suggestCharts:', error);\n",
              "      }\n",
              "      quickchartButtonEl.classList.remove('colab-df-spinner');\n",
              "      quickchartButtonEl.classList.add('colab-df-quickchart-complete');\n",
              "    }\n",
              "    (() => {\n",
              "      let quickchartButtonEl =\n",
              "        document.querySelector('#df-5d07778a-5794-42af-87d3-4aea61716301 button');\n",
              "      quickchartButtonEl.style.display =\n",
              "        google.colab.kernel.accessAllowed ? 'block' : 'none';\n",
              "    })();\n",
              "  </script>\n",
              "</div>\n",
              "\n",
              "    </div>\n",
              "  </div>\n"
            ],
            "application/vnd.google.colaboratory.intrinsic+json": {
              "type": "dataframe",
              "variable_name": "df_train",
              "summary": "{\n  \"name\": \"df_train\",\n  \"rows\": 8000,\n  \"fields\": [\n    {\n      \"column\": \"comment\",\n      \"properties\": {\n        \"dtype\": \"string\",\n        \"num_unique_values\": 7995,\n        \"samples\": [\n          \"i feel insulted video pete edochie responds to death hoax i feel insulted a href http olajideolafunmbi\",\n          \"i feel i know myself well enough to know what i will or will not do can or can not do what can be tolerated or not\",\n          \"i am a bit of a romantic so i really feel like we missed out on those things this time but i would not trade the family time we spent together\"\n        ],\n        \"semantic_type\": \"\",\n        \"description\": \"\"\n      }\n    },\n    {\n      \"column\": \"label\",\n      \"properties\": {\n        \"dtype\": \"category\",\n        \"num_unique_values\": 6,\n        \"samples\": [\n          \"sadness\",\n          \"anger\",\n          \"joy\"\n        ],\n        \"semantic_type\": \"\",\n        \"description\": \"\"\n      }\n    }\n  ]\n}"
            }
          },
          "metadata": {},
          "execution_count": 6
        }
      ]
    },
    {
      "cell_type": "code",
      "source": [
        "with open(val_path, 'r', encoding='utf-8') as file:\n",
        "    lines = file.readlines()\n",
        "\n",
        "val_data = [line.strip().split(';') for line in lines]\n",
        "df_val = pd.DataFrame(val_data, columns=['comment', 'label'])"
      ],
      "metadata": {
        "id": "PF2IR_k_moCU"
      },
      "execution_count": null,
      "outputs": []
    },
    {
      "cell_type": "code",
      "source": [
        "with open(test_path, 'r', encoding='utf-8') as file:\n",
        "    lines = file.readlines()\n",
        "\n",
        "test_data = [line.strip().split(';') for line in lines]\n",
        "df_test = pd.DataFrame(test_data, columns=['comment', 'label'])"
      ],
      "metadata": {
        "id": "jQg0MMUPm8V2"
      },
      "execution_count": null,
      "outputs": []
    },
    {
      "cell_type": "code",
      "source": [
        "print(df_train['label'].value_counts())\n",
        "print('===============')\n",
        "print(df_val['label'].value_counts())\n",
        "print('===============')\n",
        "print(df_test['label'].value_counts())\n"
      ],
      "metadata": {
        "colab": {
          "base_uri": "https://localhost:8080/"
        },
        "id": "xD6MMuQumxVW",
        "outputId": "4860c6f8-2833-46a3-b654-e7207a0f14a3"
      },
      "execution_count": null,
      "outputs": [
        {
          "output_type": "stream",
          "name": "stdout",
          "text": [
            "label\n",
            "joy         2693\n",
            "sadness     2298\n",
            "anger       1091\n",
            "fear         935\n",
            "love         661\n",
            "surprise     322\n",
            "Name: count, dtype: int64\n",
            "===============\n",
            "label\n",
            "joy         704\n",
            "sadness     550\n",
            "anger       275\n",
            "fear        212\n",
            "love        178\n",
            "surprise     81\n",
            "Name: count, dtype: int64\n",
            "===============\n",
            "label\n",
            "joy         695\n",
            "sadness     581\n",
            "anger       275\n",
            "fear        224\n",
            "love        159\n",
            "surprise     66\n",
            "Name: count, dtype: int64\n"
          ]
        }
      ]
    },
    {
      "cell_type": "code",
      "source": [
        "import matplotlib.pyplot as plt\n",
        "import seaborn as sns\n",
        "\n",
        "print(df_train['label'].value_counts())\n",
        "\n",
        "# Updated list of class names (new labels)\n",
        "class_names = ['joy', 'sadness', 'anger', 'fear', 'love', 'surprise']\n",
        "\n",
        "sns.set(style='whitegrid', palette='muted', font_scale=0.8)\n",
        "HAPPY_COLORS_PALETTE = {\"joy\": \"#8F00FF\", \"sadness\": \"#FF7D00\", \"anger\": \"#D32F2F\",\n",
        "                        \"fear\": \"#1976D2\", \"love\": \"#E91E63\", \"surprise\": \"#FFC107\"}\n",
        "ax = sns.countplot(x='label', data=df_train, palette=HAPPY_COLORS_PALETTE)\n",
        "\n",
        "plt.xlabel('Emotion')\n",
        "plt.ylabel('Count')\n",
        "\n",
        "# Ensure the x-tick labels match the order of 'class_names'\n",
        "ax.set_xticklabels(class_names)\n",
        "\n",
        "# Set the title of the plot\n",
        "plt.title('Emotion Distribution in Text')\n",
        "\n",
        "# Show the plot\n",
        "plt.show()\n"
      ],
      "metadata": {
        "colab": {
          "base_uri": "https://localhost:8080/",
          "height": 749
        },
        "id": "LSvO4tNlu6mB",
        "outputId": "b7953094-e3e9-456e-e67e-aabbf53b47c5"
      },
      "execution_count": null,
      "outputs": [
        {
          "output_type": "stream",
          "name": "stdout",
          "text": [
            "label\n",
            "joy         2693\n",
            "sadness     2298\n",
            "anger       1091\n",
            "fear         935\n",
            "love         661\n",
            "surprise     322\n",
            "Name: count, dtype: int64\n"
          ]
        },
        {
          "output_type": "stream",
          "name": "stderr",
          "text": [
            "<ipython-input-10-19800f4f529e>:12: FutureWarning: \n",
            "\n",
            "Passing `palette` without assigning `hue` is deprecated and will be removed in v0.14.0. Assign the `x` variable to `hue` and set `legend=False` for the same effect.\n",
            "\n",
            "  ax = sns.countplot(x='label', data=df_train, palette=HAPPY_COLORS_PALETTE)\n",
            "<ipython-input-10-19800f4f529e>:18: UserWarning: set_ticklabels() should only be used with a fixed number of ticks, i.e. after set_ticks() or using a FixedLocator.\n",
            "  ax.set_xticklabels(class_names)\n"
          ]
        },
        {
          "output_type": "display_data",
          "data": {
            "text/plain": [
              "<Figure size 640x480 with 1 Axes>"
            ],
            "image/png": "[encoded data removed]"
          },
          "metadata": {}
        }
      ]
    },
    {
      "cell_type": "code",
      "source": [
        "emotion_map = {'joy': 0,'sadness': 1,'anger': 2,'fear': 3,'love': 4,'surprise': 5}\n",
        "\n",
        "df_train['label_numeric'] = df_train['label'].map(emotion_map)\n",
        "df_val['label_numeric'] = df_val['label'].map(emotion_map)\n",
        "df_test['label_numeric'] = df_test['label'].map(emotion_map)\n",
        "\n",
        "\n",
        "# Check the first 10 rows to confirm the mapping\n",
        "print(df_train.head(10))\n"
      ],
      "metadata": {
        "colab": {
          "base_uri": "https://localhost:8080/"
        },
        "id": "YDvJz-XG2SWH",
        "outputId": "faa9f219-7f6a-464a-be33-163797f78be4"
      },
      "execution_count": null,
      "outputs": [
        {
          "output_type": "stream",
          "name": "stdout",
          "text": [
            "                                             comment     label  label_numeric\n",
            "0                            i didnt feel humiliated   sadness              1\n",
            "1  i can go from feeling so hopeless to so damned...   sadness              1\n",
            "2   im grabbing a minute to post i feel greedy wrong     anger              2\n",
            "3  i am ever feeling nostalgic about the fireplac...      love              4\n",
            "4                               i am feeling grouchy     anger              2\n",
            "5  ive been feeling a little burdened lately wasn...   sadness              1\n",
            "6  ive been taking or milligrams or times recomme...  surprise              5\n",
            "7  i feel as confused about life as a teenager or...      fear              3\n",
            "8  i have been with petronas for years i feel tha...       joy              0\n",
            "9                                i feel romantic too      love              4\n"
          ]
        }
      ]
    },
    {
      "cell_type": "code",
      "source": [
        "print(df_train['label'].value_counts())"
      ],
      "metadata": {
        "colab": {
          "base_uri": "https://localhost:8080/"
        },
        "id": "sT3PXlAociTA",
        "outputId": "bf68fb97-2a1f-4279-91f9-9e848c744bd7"
      },
      "execution_count": null,
      "outputs": [
        {
          "output_type": "stream",
          "name": "stdout",
          "text": [
            "label\n",
            "joy         2693\n",
            "sadness     2298\n",
            "anger       1091\n",
            "fear         935\n",
            "love         661\n",
            "surprise     322\n",
            "Name: count, dtype: int64\n"
          ]
        }
      ]
    },
    {
      "cell_type": "markdown",
      "source": [
        "'Preprocessing and classification'\n",
        "\n",
        "using df_reviews['Reviews'] is bert with sentiment labels will be preprocessing this using bert tokenizer"
      ],
      "metadata": {
        "id": "TM0uJGgEvjZ6"
      }
    },
    {
      "cell_type": "code",
      "source": [
        "from transformers import BertTokenizerFast as BertTokenizer, BertModel, AdamW, get_linear_schedule_with_warmup"
      ],
      "metadata": {
        "id": "Jin56LaxwS6G"
      },
      "execution_count": null,
      "outputs": []
    },
    {
      "cell_type": "code",
      "source": [
        "PRE_TRAINED_MODEL_NAME = 'bert-base-cased'"
      ],
      "metadata": {
        "id": "RCoPVDc5vioD"
      },
      "execution_count": null,
      "outputs": []
    },
    {
      "cell_type": "markdown",
      "source": [
        "# Tokenization"
      ],
      "metadata": {
        "id": "WdjDZyY05bdJ"
      }
    },
    {
      "cell_type": "code",
      "source": [
        "tokenizer = BertTokenizer.from_pretrained(PRE_TRAINED_MODEL_NAME)"
      ],
      "metadata": {
        "colab": {
          "base_uri": "https://localhost:8080/"
        },
        "id": "2thFA1FrwRWG",
        "outputId": "03803e82-5a67-4625-84bf-b2a770b615e9"
      },
      "execution_count": null,
      "outputs": [
        {
          "output_type": "stream",
          "name": "stderr",
          "text": [
            "/usr/local/lib/python3.10/dist-packages/huggingface_hub/utils/_token.py:89: UserWarning: \n",
            "The secret `HF_TOKEN` does not exist in your Colab secrets.\n",
            "To authenticate with the Hugging Face Hub, create a token in your settings tab (https://huggingface.co/settings/tokens), set it as secret in your Google Colab and restart your session.\n",
            "You will be able to reuse this secret in all of your notebooks.\n",
            "Please note that authentication is recommended but still optional to access public models or datasets.\n",
            "  warnings.warn(\n",
            "/usr/local/lib/python3.10/dist-packages/transformers/tokenization_utils_base.py:1601: FutureWarning: `clean_up_tokenization_spaces` was not set. It will be set to `True` by default. This behavior will be depracted in transformers v4.45, and will be then set to `False` by default. For more details check this issue: https://github.com/huggingface/transformers/issues/31884\n",
            "  warnings.warn(\n"
          ]
        }
      ]
    },
    {
      "cell_type": "markdown",
      "source": [
        "*tokenize()*: This method converts the raw text into tokens, using the WordPiece tokenization\n",
        "\n",
        "*convert_tokens_to_ids()*: This method takes the tokens and converts them into corresponding integer IDs from the models vocabulary.\n",
        "\n",
        "*encode()*: This method combines tokenization, adding special tokens, and converting tokens into token IDs in a single step. It returns a list of token IDs, including the **[CLS]** and **[SEP]** tokens.\n",
        "\n",
        " * 101: [CLS] token (start of sequence).\n",
        " * 102: [SEP] token (end of sequence).\n",
        "\n",
        "*return_attention_mask=True*: Returns the attention mask, which is used to tell the model which tokens are real words and which are padding tokens\n",
        "\n",
        "*decode()*: Converts token IDs back into the human-readable text form, reconstructing the original sentence (or something very close to it, depending on tokenization)\n",
        "\n",
        "In the context of tokenization, *max_length* refers to the maximum number of tokens (words or subwords) that can be used as input for a model, such as BERT or other transformer-based models.\n",
        "\n",
        "\n",
        "\n",
        "\n",
        "\n",
        "\n",
        "\n"
      ],
      "metadata": {
        "id": "CWn32Epn3fqE"
      }
    },
    {
      "cell_type": "code",
      "source": [
        "from torch.utils.data import DataLoader\n",
        "from torch.utils.data import Dataset\n",
        "\n",
        "class EmotionDataset(Dataset):\n",
        "\n",
        "  def __init__(self, comments, targets, tokenizer, max_len):\n",
        "    self.comments = comments\n",
        "    self.targets = targets\n",
        "    self.tokenizer = tokenizer\n",
        "    self.max_len = max_len\n",
        "\n",
        "  def __len__(self):\n",
        "    return len(self.comments)\n",
        "\n",
        "  def __getitem__(self, item):\n",
        "    comment = str(self.comments[item])\n",
        "    target = self.targets[item]\n",
        "\n",
        "    encoding = self.tokenizer.encode_plus(\n",
        "      comment,\n",
        "      add_special_tokens=True,\n",
        "      max_length=self.max_len,\n",
        "      return_token_type_ids=False,\n",
        "      padding='max_length',\n",
        "      return_attention_mask=True,\n",
        "      truncation=True,\n",
        "      return_tensors='pt',\n",
        "    )\n",
        "\n",
        "    return {\n",
        "      'comment_text': comment,\n",
        "      'input_ids': encoding['input_ids'].flatten(),\n",
        "      'attention_mask': encoding['attention_mask'].flatten(),\n",
        "      'targets': torch.tensor(target, dtype=torch.long)\n",
        "    }"
      ],
      "metadata": {
        "id": "7qCiELGNEUcT"
      },
      "execution_count": null,
      "outputs": []
    },
    {
      "cell_type": "code",
      "source": [
        "def data_loader(df, tokenizer, max_len, batch_size, shuffle=True, num_workers=4, pin_memory=True):\n",
        "\n",
        "    comments = df['comment'].tolist()\n",
        "    targets = df['label_numeric'].tolist()\n",
        "\n",
        "    # Initialize the dataset\n",
        "    dataset = EmotionDataset(\n",
        "        comments=comments,\n",
        "        targets=targets,\n",
        "        tokenizer=tokenizer,\n",
        "        max_len=max_len\n",
        "    )\n",
        "\n",
        "    # Create and return the DataLoader\n",
        "    return DataLoader(\n",
        "        dataset,\n",
        "        batch_size=batch_size,\n",
        "        shuffle=shuffle,\n",
        "        num_workers=num_workers,\n",
        "        pin_memory=pin_memory\n",
        "    )"
      ],
      "metadata": {
        "id": "8pe6ZEfsGBCy"
      },
      "execution_count": null,
      "outputs": []
    },
    {
      "cell_type": "code",
      "source": [
        "print(df_train.shape, df_test.shape, df_val.shape)"
      ],
      "metadata": {
        "colab": {
          "base_uri": "https://localhost:8080/"
        },
        "id": "M7b4jUYcG9nE",
        "outputId": "95c4de04-3919-4d48-9f40-1282e9845066"
      },
      "execution_count": null,
      "outputs": [
        {
          "output_type": "stream",
          "name": "stdout",
          "text": [
            "(8000, 3) (2000, 3) (2000, 3)\n"
          ]
        }
      ]
    },
    {
      "cell_type": "code",
      "source": [
        "#\n",
        "batch_size = 10\n",
        "max_len= 256\n",
        "\n",
        "train_data_loader = data_loader(df_train, tokenizer, max_len, batch_size)\n",
        "val_data_loader =   data_loader(df_val, tokenizer,   max_len, batch_size)\n",
        "test_data_loader =  data_loader(df_test, tokenizer,  max_len, batch_size)"
      ],
      "metadata": {
        "id": "vEBtMTzDH71n"
      },
      "execution_count": null,
      "outputs": []
    },
    {
      "cell_type": "code",
      "source": [
        "data = next(iter(train_data_loader))\n",
        "data.keys()"
      ],
      "metadata": {
        "colab": {
          "base_uri": "https://localhost:8080/"
        },
        "id": "wrUtjG8AIEBx",
        "outputId": "1ae39152-e669-46dc-d023-9a9c0fc5e24d"
      },
      "execution_count": null,
      "outputs": [
        {
          "output_type": "execute_result",
          "data": {
            "text/plain": [
              "dict_keys(['comment_text', 'input_ids', 'attention_mask', 'targets'])"
            ]
          },
          "metadata": {},
          "execution_count": 29
        }
      ]
    },
    {
      "cell_type": "code",
      "source": [
        "print(data['input_ids'].shape)\n",
        "print(data['attention_mask'].shape)\n",
        "print(data['targets'].shape)\n"
      ],
      "metadata": {
        "colab": {
          "base_uri": "https://localhost:8080/"
        },
        "id": "luiZzh4jPYkw",
        "outputId": "d269f577-9c3b-4185-fed5-a75f47c39e2e"
      },
      "execution_count": null,
      "outputs": [
        {
          "output_type": "stream",
          "name": "stdout",
          "text": [
            "torch.Size([10, 256])\n",
            "torch.Size([10, 256])\n",
            "torch.Size([10])\n"
          ]
        }
      ]
    },
    {
      "cell_type": "code",
      "source": [
        "class SentimentClassifier(nn.Module):\n",
        "\n",
        "  def __init__(self, n_classes):\n",
        "    super(SentimentClassifier, self).__init__()\n",
        "    self.bert = BertModel.from_pretrained(PRE_TRAINED_MODEL_NAME)\n",
        "    self.drop = nn.Dropout(0.3)\n",
        "    self.out = nn.Linear(self.bert.config.hidden_size, n_classes)\n",
        "\n",
        "  def forward(self, input_ids, attention_mask):\n",
        "      outputs = self.bert(\n",
        "      input_ids=input_ids,\n",
        "      attention_mask=attention_mask\n",
        "    )\n",
        "      output = self.drop(outputs.pooler_output)\n",
        "      return self.out(output)\n"
      ],
      "metadata": {
        "id": "QKcHRp-3PqcJ"
      },
      "execution_count": null,
      "outputs": []
    },
    {
      "cell_type": "code",
      "source": [
        "model = SentimentClassifier(len(class_names))\n",
        "model = model.to(device)"
      ],
      "metadata": {
        "id": "i5Wl68QdPzbg"
      },
      "execution_count": null,
      "outputs": []
    },
    {
      "cell_type": "code",
      "source": [
        "input_ids = data['input_ids'].to(device)\n",
        "attention_mask = data['attention_mask'].to(device)\n",
        "\n",
        "print(input_ids.shape) # batch size x seq length\n",
        "print(attention_mask.shape) # batch size x seq length\n",
        "model(input_ids, attention_mask)\n"
      ],
      "metadata": {
        "colab": {
          "base_uri": "https://localhost:8080/"
        },
        "id": "sSw7BHLnWJl6",
        "outputId": "8d3e4ec4-8afe-4aca-ffeb-2925ab209c75"
      },
      "execution_count": null,
      "outputs": [
        {
          "output_type": "stream",
          "name": "stdout",
          "text": [
            "torch.Size([10, 256])\n",
            "torch.Size([10, 256])\n"
          ]
        },
        {
          "output_type": "execute_result",
          "data": {
            "text/plain": [
              "tensor([[-2.9203e-02, -4.5349e-01, -5.5598e-02,  1.9916e-01, -4.2142e-01,\n",
              "         -2.5403e-01],\n",
              "        [ 1.4309e-02,  2.0710e-01, -2.3153e-01,  3.6309e-02, -6.7637e-02,\n",
              "         -2.6750e-01],\n",
              "        [ 2.5710e-01, -2.1710e-01, -1.8043e-01, -2.4999e-01, -5.0147e-01,\n",
              "          3.7503e-02],\n",
              "        [-5.1691e-02, -3.5803e-02, -1.4259e-01,  5.1360e-01, -3.6479e-01,\n",
              "          3.2890e-01],\n",
              "        [-5.4964e-01, -1.8357e-01, -3.9047e-01,  3.0886e-01, -6.7792e-01,\n",
              "          4.2956e-01],\n",
              "        [ 3.7512e-01,  2.8539e-01,  1.0107e-01, -3.6027e-01, -6.6514e-01,\n",
              "          5.6906e-01],\n",
              "        [-3.9670e-02, -3.2405e-02, -2.1807e-01,  3.7163e-01, -1.6810e-01,\n",
              "         -2.8989e-01],\n",
              "        [-3.5690e-01,  1.4493e-01, -4.1464e-01,  2.1708e-02, -6.3791e-03,\n",
              "         -3.7193e-02],\n",
              "        [-3.4853e-01,  6.7484e-01, -4.2758e-01,  3.0095e-01, -2.1880e-01,\n",
              "         -3.5481e-01],\n",
              "        [-2.8417e-01,  3.3072e-01, -3.2771e-01, -2.9022e-04, -5.5663e-01,\n",
              "          2.6489e-01]], device='cuda:0', grad_fn=<AddmmBackward0>)"
            ]
          },
          "metadata": {},
          "execution_count": 33
        }
      ]
    },
    {
      "cell_type": "code",
      "source": [
        "def compute_metrics(outputs, targets, loss_fn):\n",
        "    _, preds = torch.max(outputs, dim=1)\n",
        "    loss = loss_fn(outputs, targets)\n",
        "    correct_predictions = torch.sum(preds == targets).item()\n",
        "    return loss.item(), correct_predictions"
      ],
      "metadata": {
        "id": "6_5rcfkgRRe7"
      },
      "execution_count": null,
      "outputs": []
    },
    {
      "cell_type": "code",
      "source": [
        "from collections import defaultdict\n",
        "import torch\n",
        "import torch.nn as nn\n",
        "from transformers import AdamW, get_linear_schedule_with_warmup\n",
        "from tqdm import tqdm  # Import tqdm for progress bars\n",
        "\n",
        "# Hyperparameters\n",
        "EPOCHS = 5\n",
        "LEARNING_RATE = 2e-5\n",
        "BATCH_SIZE = 50  # You can adjust this based on your memory limitations\n",
        "\n",
        "# Define the device (ensure it's either GPU or CPU based on availability)\n",
        "device = torch.device(\"cuda\" if torch.cuda.is_available() else \"cpu\")\n",
        "\n",
        "# Optimizer setup with weight decay for regularization\n",
        "optimizer = AdamW(\n",
        "    model.parameters(),\n",
        "    lr=LEARNING_RATE,\n",
        "    weight_decay=0.01,  # Regularization term\n",
        "    correct_bias=False\n",
        ")\n",
        "\n",
        "# Calculate total steps for scheduler\n",
        "total_steps = len(train_data_loader) * EPOCHS\n",
        "\n",
        "# Learning rate scheduler setup with warmup\n",
        "num_warmup_steps = int(0.1 * total_steps)  # Use 10% of total steps for warmup\n",
        "scheduler = get_linear_schedule_with_warmup(\n",
        "    optimizer,\n",
        "    num_warmup_steps=num_warmup_steps,\n",
        "    num_training_steps=total_steps\n",
        ")\n",
        "\n",
        "# Loss function (CrossEntropyLoss for classification)\n",
        "loss_fn = nn.CrossEntropyLoss().to(device)\n",
        "\n",
        "# Train and Eval Functions\n",
        "def train_epoch(model, data_loader, loss_fn, optimizer, device, scheduler, n_examples):\n",
        "    model.train()\n",
        "    losses = []\n",
        "    correct_predictions = 0\n",
        "    progress_bar = tqdm(data_loader, desc=\"Training\", total=len(data_loader), leave=False)\n",
        "\n",
        "    for d in progress_bar:\n",
        "        input_ids = d[\"input_ids\"].to(device)  # Tensor with shape [batch_size, max_len]\n",
        "        attention_mask = d[\"attention_mask\"].to(device)  # Same shape [batch_size, max_len]\n",
        "        targets = d[\"targets\"].to(device)  # Tensor with shape [batch_size]\n",
        "\n",
        "        optimizer.zero_grad()\n",
        "\n",
        "        # Forward pass through the model\n",
        "        outputs = model(input_ids=input_ids, attention_mask=attention_mask)\n",
        "\n",
        "        # Convert model output to predictions\n",
        "        _, preds = torch.max(outputs, dim=1)\n",
        "\n",
        "        # Calculate loss\n",
        "        loss = loss_fn(outputs, targets)\n",
        "\n",
        "        # Backward pass\n",
        "        loss.backward()\n",
        "        nn.utils.clip_grad_norm_(model.parameters(), max_norm=1.0)\n",
        "        optimizer.step()\n",
        "        scheduler.step()\n",
        "\n",
        "        # Track correct predictions and losses\n",
        "        correct_predictions += torch.sum(preds == targets)\n",
        "        losses.append(loss.item())\n",
        "\n",
        "        # Update progress bar\n",
        "        progress_bar.set_postfix(loss=loss.item(), accuracy=(correct_predictions.double() / len(d)).item())\n",
        "\n",
        "    # Calculate and return accuracy and loss for the epoch\n",
        "    train_acc = correct_predictions.double() / n_examples\n",
        "    train_loss = sum(losses) / len(losses)\n",
        "\n",
        "    return train_acc, train_loss\n",
        "\n",
        "\n",
        "def eval_model(model, data_loader, loss_fn, device, n_examples):\n",
        "    model.eval()  # Set model to evaluation mode\n",
        "    losses = []\n",
        "    correct_predictions = 0\n",
        "    progress_bar = tqdm(data_loader, desc=\"Validation\", total=len(data_loader), leave=False)\n",
        "\n",
        "    with torch.no_grad():\n",
        "        for d in progress_bar:\n",
        "            input_ids = d[\"input_ids\"].to(device)  # This will have shape [batch_size, max_len]\n",
        "            attention_mask = d[\"attention_mask\"].to(device)  # Same shape [batch_size, max_len]\n",
        "            targets = d[\"targets\"].to(device)  # Labels for classification\n",
        "\n",
        "            outputs = model(input_ids=input_ids, attention_mask=attention_mask)\n",
        "            _, preds = torch.max(outputs, dim=1)\n",
        "            loss = loss_fn(outputs, targets)\n",
        "\n",
        "            correct_predictions += torch.sum(preds == targets)\n",
        "            losses.append(loss.item())\n",
        "\n",
        "            # Update progress bar with loss and accuracy\n",
        "            progress_bar.set_postfix(loss=loss.item(), accuracy=(correct_predictions.double() / len(d)).item())\n",
        "\n",
        "    # Calculate average accuracy and loss for the validation set\n",
        "    val_acc = correct_predictions.double() / n_examples\n",
        "    val_loss = sum(losses) / len(losses)\n",
        "\n",
        "    return val_acc, val_loss\n",
        "\n",
        "# Example Training Loop with train_epoch and eval_model functions\n",
        "history = defaultdict(list)  # This is where defaultdict is used\n",
        "best_accuracy = 0\n",
        "\n",
        "for epoch in range(EPOCHS):\n",
        "    print(f'Epoch {epoch + 1}/{EPOCHS}')\n",
        "    print('-' * 10)\n",
        "\n",
        "    # Training phase\n",
        "    train_acc, train_loss = train_epoch(\n",
        "        model,\n",
        "        train_data_loader,\n",
        "        loss_fn,\n",
        "        optimizer,\n",
        "        device,\n",
        "        scheduler,\n",
        "        len(df_train)\n",
        "    )\n",
        "    print(f'Train loss: {train_loss:.4f} | Train accuracy: {train_acc:.2f}%')\n",
        "\n",
        "    # Validation phase\n",
        "    val_acc, val_loss = eval_model(\n",
        "        model,\n",
        "        val_data_loader,\n",
        "        loss_fn,\n",
        "        device,\n",
        "        len(df_val)\n",
        "    )\n",
        "    print(f'Val loss: {val_loss:.4f} | Val accuracy: {val_acc:.2f}%')\n",
        "    print()\n",
        "\n",
        "    # Log history\n",
        "    history['train_acc'].append(train_acc)\n",
        "    history['train_loss'].append(train_loss)\n",
        "    history['val_acc'].append(val_acc)\n",
        "    history['val_loss'].append(val_loss)\n",
        "\n",
        "    # Save the model if validation accuracy improves\n",
        "    if val_acc > best_accuracy:\n",
        "        print(f'Validation accuracy improved from {best_accuracy:.2f}% to {val_acc:.2f}%. Saving model...')\n",
        "        torch.save(model.state_dict(), 'best_model_state.bin')\n",
        "        best_accuracy = val_acc\n"
      ],
      "metadata": {
        "colab": {
          "base_uri": "https://localhost:8080/"
        },
        "id": "54GzDPZoTFx0",
        "outputId": "a56164d9-853d-466f-a26d-fac6d9dca16c"
      },
      "execution_count": null,
      "outputs": [
        {
          "output_type": "stream",
          "name": "stdout",
          "text": [
            "Epoch 1/5\n",
            "----------\n"
          ]
        },
        {
          "output_type": "stream",
          "name": "stderr",
          "text": []
        },
        {
          "output_type": "stream",
          "name": "stdout",
          "text": [
            "Train loss: 0.7365 | Train accuracy: 0.74%\n"
          ]
        },
        {
          "output_type": "stream",
          "name": "stderr",
          "text": []
        },
        {
          "output_type": "stream",
          "name": "stdout",
          "text": [
            "Val loss: 0.2987 | Val accuracy: 0.92%\n",
            "\n",
            "Validation accuracy improved from 0.00% to 0.92%. Saving model...\n",
            "Epoch 2/5\n",
            "----------\n"
          ]
        },
        {
          "output_type": "stream",
          "name": "stderr",
          "text": []
        },
        {
          "output_type": "stream",
          "name": "stdout",
          "text": [
            "Train loss: 0.2091 | Train accuracy: 0.94%\n"
          ]
        },
        {
          "output_type": "stream",
          "name": "stderr",
          "text": []
        },
        {
          "output_type": "stream",
          "name": "stdout",
          "text": [
            "Val loss: 0.2360 | Val accuracy: 0.93%\n",
            "\n",
            "Validation accuracy improved from 0.92% to 0.93%. Saving model...\n",
            "Epoch 3/5\n",
            "----------\n"
          ]
        },
        {
          "output_type": "stream",
          "name": "stderr",
          "text": []
        },
        {
          "output_type": "stream",
          "name": "stdout",
          "text": [
            "Train loss: 0.1266 | Train accuracy: 0.96%\n"
          ]
        },
        {
          "output_type": "stream",
          "name": "stderr",
          "text": []
        },
        {
          "output_type": "stream",
          "name": "stdout",
          "text": [
            "Val loss: 0.2114 | Val accuracy: 0.94%\n",
            "\n",
            "Validation accuracy improved from 0.93% to 0.94%. Saving model...\n",
            "Epoch 4/5\n",
            "----------\n"
          ]
        },
        {
          "output_type": "stream",
          "name": "stderr",
          "text": []
        },
        {
          "output_type": "stream",
          "name": "stdout",
          "text": [
            "Train loss: 0.0757 | Train accuracy: 0.97%\n"
          ]
        },
        {
          "output_type": "stream",
          "name": "stderr",
          "text": []
        },
        {
          "output_type": "stream",
          "name": "stdout",
          "text": [
            "Val loss: 0.2498 | Val accuracy: 0.93%\n",
            "\n",
            "Epoch 5/5\n",
            "----------\n"
          ]
        },
        {
          "output_type": "stream",
          "name": "stderr",
          "text": []
        },
        {
          "output_type": "stream",
          "name": "stdout",
          "text": [
            "Train loss: 0.0375 | Train accuracy: 0.99%\n"
          ]
        },
        {
          "output_type": "stream",
          "name": "stderr",
          "text": [
            "                                                                                      "
          ]
        },
        {
          "output_type": "stream",
          "name": "stdout",
          "text": [
            "Val loss: 0.2694 | Val accuracy: 0.94%\n",
            "\n"
          ]
        },
        {
          "output_type": "stream",
          "name": "stderr",
          "text": [
            "\r"
          ]
        }
      ]
    },
    {
      "cell_type": "code",
      "source": [
        "\n",
        "train_acc = [x.cpu().numpy() for x in history['train_acc']]\n",
        "val_acc =   [x.cpu().numpy() for x in history['val_acc']]  # These are already in a list, so no need to move to CPU\n",
        "train_loss = history['train_loss']  # These are already in a list, so no need to move to CPU\n",
        "val_loss = history['val_loss']  # These are already in a list, so no need to move to CPU\n",
        "\n",
        "# Epochs (you can use the length of any of the history lists)\n",
        "epochs = range(1, len(train_acc) + 1)"
      ],
      "metadata": {
        "id": "SLCHpb6DZMZ1"
      },
      "execution_count": null,
      "outputs": []
    },
    {
      "cell_type": "code",
      "source": [
        "plt.figure(figsize=(12, 5))\n",
        "\n",
        "# Plot Training and Validation Accuracy\n",
        "plt.subplot(1, 2, 1)\n",
        "plt.plot(epochs, train_acc, label='Training Accuracy', marker='o')\n",
        "plt.plot(epochs, val_acc, label='Validation Accuracy', marker='x')\n",
        "plt.xlabel('Epochs')\n",
        "plt.ylabel('Accuracy')\n",
        "plt.title('Training and Validation Accuracy')\n",
        "plt.legend()\n",
        "\n",
        "# Plot Training and Validation Loss\n",
        "plt.subplot(1, 2, 2)\n",
        "plt.plot(epochs, train_loss, label='Training Loss', marker='o')\n",
        "plt.plot(epochs, val_loss, label='Validation Loss', marker='x')\n",
        "plt.xlabel('Epochs')\n",
        "plt.ylabel('Loss')\n",
        "plt.title('Training and Validation Loss')\n",
        "plt.legend()\n",
        "\n",
        "# Show the plots\n",
        "plt.tight_layout()\n",
        "plt.show()"
      ],
      "metadata": {
        "colab": {
          "base_uri": "https://localhost:8080/",
          "height": 405
        },
        "id": "ZcR3cdfdZ6s-",
        "outputId": "902bb9e7-625f-420c-a507-3ba8fa290f75"
      },
      "execution_count": null,
      "outputs": [
        {
          "output_type": "display_data",
          "data": {
            "text/plain": [
              "<Figure size 1200x500 with 2 Axes>"
            ],
            "image/png": "[encoded data removed]"
          },
          "metadata": {}
        }
      ]
    },
    {
      "cell_type": "code",
      "source": [
        "test_acc, _ = eval_model(\n",
        "  model,\n",
        "  test_data_loader,\n",
        "  loss_fn,\n",
        "  device,\n",
        "  len(df_test)\n",
        ")\n",
        "\n",
        "test_acc.item()\n"
      ],
      "metadata": {
        "colab": {
          "base_uri": "https://localhost:8080/"
        },
        "id": "iNn26zwiaZEW",
        "outputId": "ec8d5594-cbf6-46e7-97ae-da01abd99834"
      },
      "execution_count": null,
      "outputs": [
        {
          "output_type": "stream",
          "name": "stderr",
          "text": []
        },
        {
          "output_type": "execute_result",
          "data": {
            "text/plain": [
              "0.917"
            ]
          },
          "metadata": {},
          "execution_count": 38
        }
      ]
    },
    {
      "cell_type": "code",
      "source": [
        "# Switch model to evaluation mode\n",
        "model = model.eval()\n",
        "\n",
        "# Initialize lists to store outputs\n",
        "review_texts = []\n",
        "predictions = []\n",
        "prediction_probs = []\n",
        "real_values = []\n",
        "\n",
        "# Disable gradient calculation for inference\n",
        "with torch.no_grad():\n",
        "    # Loop through the test data loader\n",
        "    for d in test_data_loader:\n",
        "        # Extract the batch data\n",
        "        texts = d[\"comment_text\"]\n",
        "        input_ids = d[\"input_ids\"].to(device)\n",
        "        attention_mask = d[\"attention_mask\"].to(device)\n",
        "        targets = d[\"targets\"].to(device)\n",
        "\n",
        "        # Forward pass through the model\n",
        "        outputs = model(input_ids=input_ids, attention_mask=attention_mask)\n",
        "\n",
        "        # Get the predicted class labels\n",
        "        _, preds = torch.max(outputs, dim=1)\n",
        "\n",
        "        # Get the probabilities (softmax)\n",
        "        probs = F.softmax(outputs, dim=1)\n",
        "\n",
        "        # Append results to lists\n",
        "        review_texts.extend(texts)\n",
        "        predictions.extend(preds)\n",
        "        prediction_probs.extend(probs)\n",
        "        real_values.extend(targets)\n",
        "\n",
        "# Convert the predictions and probabilities to CPU and stack them\n",
        "y_pred = torch.stack(predictions).cpu()\n",
        "y_pred_probs = torch.stack(prediction_probs).cpu()\n",
        "y_test = torch.stack(real_values).cpu()\n"
      ],
      "metadata": {
        "id": "zWnhtJC0bcQP"
      },
      "execution_count": null,
      "outputs": []
    },
    {
      "cell_type": "code",
      "source": [
        "from sklearn.metrics import classification_report\n",
        "print(classification_report(y_test, y_pred, target_names=class_names))\n"
      ],
      "metadata": {
        "colab": {
          "base_uri": "https://localhost:8080/"
        },
        "id": "y1fTSuvQbjI4",
        "outputId": "88ec85d4-c8f0-4289-cd65-c0293666664f"
      },
      "execution_count": null,
      "outputs": [
        {
          "output_type": "stream",
          "name": "stdout",
          "text": [
            "              precision    recall  f1-score   support\n",
            "\n",
            "         joy       0.95      0.94      0.94       695\n",
            "     sadness       0.96      0.95      0.95       581\n",
            "       anger       0.91      0.91      0.91       275\n",
            "        fear       0.88      0.87      0.88       224\n",
            "        love       0.81      0.84      0.82       159\n",
            "    surprise       0.69      0.79      0.74        66\n",
            "\n",
            "    accuracy                           0.92      2000\n",
            "   macro avg       0.87      0.88      0.87      2000\n",
            "weighted avg       0.92      0.92      0.92      2000\n",
            "\n"
          ]
        }
      ]
    }
  ]
}