{
  "nbformat": 4,
  "nbformat_minor": 0,
  "metadata": {
    "colab": {
      "provenance": []
    },
    "kernelspec": {
      "name": "python3",
      "display_name": "Python 3"
    },
    "language_info": {
      "name": "python"
    }
  },
  "cells": [
    {
      "cell_type": "markdown",
      "source": [
        "\n",
        "#Named Entity Recognition (NER) in NLP\n",
        "\n",
        "**Named Entity Recognition (NER)** is a crucial task in Natural Language Processing (NLP) where the goal is to identify and classify named entities in text into predefined categories such as the names of **persons, organizations, locations, dates, etc**. NER is useful for many applications, including **information retrieval, question answering, and summarization.**\n",
        "\n",
        "In this context, NER can be performed using different techniques, including rule-based methods, statistical models, and deep learning approaches. Let's go over these approaches and how they are implemented using popular libraries such as SpaCy and NLTK."
      ],
      "metadata": {
        "id": "0RrYlEkTuqbm"
      }
    },
    {
      "cell_type": "code",
      "source": [
        "import spacy\n",
        "nlp = spacy.load(\"en_core_web_sm\")\n",
        "nlp.pipe_names\n",
        "\n"
      ],
      "metadata": {
        "colab": {
          "base_uri": "https://localhost:8080/"
        },
        "id": "axMZQmC_ymbv",
        "outputId": "0de69ddf-cb1e-49b2-82a7-a51505db2b2b"
      },
      "execution_count": 1,
      "outputs": [
        {
          "output_type": "execute_result",
          "data": {
            "text/plain": [
              "['tok2vec', 'tagger', 'parser', 'attribute_ruler', 'lemmatizer', 'ner']"
            ]
          },
          "metadata": {},
          "execution_count": 1
        }
      ]
    },
    {
      "cell_type": "code",
      "source": [
        "doc = nlp(\"Apple CEO Tim Cook will visit London on November 25, 2024, and posted something about the Royal Albert Hall on Twitter\")\n",
        "for ent in doc.ents:\n",
        "    print(ent.text, \" | \", ent.label_, \" | \", spacy.explain(ent.label_))"
      ],
      "metadata": {
        "colab": {
          "base_uri": "https://localhost:8080/"
        },
        "id": "DOnd5ZyVywrY",
        "outputId": "aec9ff18-f1a7-44a8-bb0b-111e44f9297e"
      },
      "execution_count": 18,
      "outputs": [
        {
          "output_type": "stream",
          "name": "stdout",
          "text": [
            "Apple  |  ORG  |  Companies, agencies, institutions, etc.\n",
            "Tim Cook  |  PERSON  |  People, including fictional\n",
            "London  |  GPE  |  Countries, cities, states\n",
            "November 25, 2024  |  DATE  |  Absolute or relative dates or periods\n",
            "the Royal Albert Hall  |  ORG  |  Companies, agencies, institutions, etc.\n"
          ]
        }
      ]
    },
    {
      "cell_type": "code",
      "source": [
        "from spacy import displacy\n",
        "\n",
        "displacy.render(doc, style=\"ent\")"
      ],
      "metadata": {
        "colab": {
          "base_uri": "https://localhost:8080/",
          "height": 52
        },
        "id": "_pnsfijZy1MG",
        "outputId": "db0e8377-37b5-42f1-8d1d-d16fc080c57b"
      },
      "execution_count": 19,
      "outputs": [
        {
          "output_type": "display_data",
          "data": {
            "text/plain": [
              "<IPython.core.display.HTML object>"
            ],
            "text/html": [
              "<span class=\"tex2jax_ignore\"><div class=\"entities\" style=\"line-height: 2.5; direction: ltr\">\n",
              "<mark class=\"entity\" style=\"background: #7aecec; padding: 0.45em 0.6em; margin: 0 0.25em; line-height: 1; border-radius: 0.35em;\">\n",
              "    Apple\n",
              "    <span style=\"font-size: 0.8em; font-weight: bold; line-height: 1; border-radius: 0.35em; vertical-align: middle; margin-left: 0.5rem\">ORG</span>\n",
              "</mark>\n",
              " CEO \n",
              "<mark class=\"entity\" style=\"background: #aa9cfc; padding: 0.45em 0.6em; margin: 0 0.25em; line-height: 1; border-radius: 0.35em;\">\n",
              "    Tim Cook\n",
              "    <span style=\"font-size: 0.8em; font-weight: bold; line-height: 1; border-radius: 0.35em; vertical-align: middle; margin-left: 0.5rem\">PERSON</span>\n",
              "</mark>\n",
              " will visit \n",
              "<mark class=\"entity\" style=\"background: #feca74; padding: 0.45em 0.6em; margin: 0 0.25em; line-height: 1; border-radius: 0.35em;\">\n",
              "    London\n",
              "    <span style=\"font-size: 0.8em; font-weight: bold; line-height: 1; border-radius: 0.35em; vertical-align: middle; margin-left: 0.5rem\">GPE</span>\n",
              "</mark>\n",
              " on \n",
              "<mark class=\"entity\" style=\"background: #bfe1d9; padding: 0.45em 0.6em; margin: 0 0.25em; line-height: 1; border-radius: 0.35em;\">\n",
              "    November 25, 2024\n",
              "    <span style=\"font-size: 0.8em; font-weight: bold; line-height: 1; border-radius: 0.35em; vertical-align: middle; margin-left: 0.5rem\">DATE</span>\n",
              "</mark>\n",
              ", and posted something about \n",
              "<mark class=\"entity\" style=\"background: #7aecec; padding: 0.45em 0.6em; margin: 0 0.25em; line-height: 1; border-radius: 0.35em;\">\n",
              "    the Royal Albert Hall\n",
              "    <span style=\"font-size: 0.8em; font-weight: bold; line-height: 1; border-radius: 0.35em; vertical-align: middle; margin-left: 0.5rem\">ORG</span>\n",
              "</mark>\n",
              " on Twitter</div></span>"
            ]
          },
          "metadata": {}
        }
      ]
    },
    {
      "cell_type": "code",
      "source": [
        "# listing all entities\n",
        "nlp.pipe_labels['ner']\n"
      ],
      "metadata": {
        "colab": {
          "base_uri": "https://localhost:8080/"
        },
        "id": "y0sRmbAUy5iM",
        "outputId": "5ed3d197-58d2-4503-bfe6-5a0ef4eac3f8"
      },
      "execution_count": 20,
      "outputs": [
        {
          "output_type": "execute_result",
          "data": {
            "text/plain": [
              "['CARDINAL',\n",
              " 'DATE',\n",
              " 'EVENT',\n",
              " 'FAC',\n",
              " 'GPE',\n",
              " 'LANGUAGE',\n",
              " 'LAW',\n",
              " 'LOC',\n",
              " 'MONEY',\n",
              " 'NORP',\n",
              " 'ORDINAL',\n",
              " 'ORG',\n",
              " 'PERCENT',\n",
              " 'PERSON',\n",
              " 'PRODUCT',\n",
              " 'QUANTITY',\n",
              " 'TIME',\n",
              " 'WORK_OF_ART']"
            ]
          },
          "metadata": {},
          "execution_count": 20
        }
      ]
    },
    {
      "cell_type": "code",
      "source": [
        "for ent in doc.ents:\n",
        "    print(ent.text, \" | \", ent.label_, \" | \", ent.start_char, \"|\", ent.end_char)"
      ],
      "metadata": {
        "colab": {
          "base_uri": "https://localhost:8080/"
        },
        "id": "BABKfXtOz8Se",
        "outputId": "dbd4cd3a-d516-40f7-fcd1-480434d59430"
      },
      "execution_count": 21,
      "outputs": [
        {
          "output_type": "stream",
          "name": "stdout",
          "text": [
            "Apple  |  ORG  |  0 | 5\n",
            "Tim Cook  |  PERSON  |  10 | 18\n",
            "London  |  GPE  |  30 | 36\n",
            "November 25, 2024  |  DATE  |  40 | 57\n",
            "the Royal Albert Hall  |  ORG  |  86 | 107\n"
          ]
        }
      ]
    },
    {
      "cell_type": "code",
      "source": [
        "s = doc[0:5]\n",
        "print(s)\n",
        "print(type(s))"
      ],
      "metadata": {
        "colab": {
          "base_uri": "https://localhost:8080/"
        },
        "id": "OspPlx5o0fvI",
        "outputId": "9ecb2ef6-e04c-453f-cd6a-31bbbcfbeabf"
      },
      "execution_count": 29,
      "outputs": [
        {
          "output_type": "stream",
          "name": "stdout",
          "text": [
            "Apple CEO Tim Cook will\n",
            "<class 'spacy.tokens.span.Span'>\n"
          ]
        }
      ]
    },
    {
      "cell_type": "code",
      "source": [
        "print(len(doc) , doc[22:])\n"
      ],
      "metadata": {
        "colab": {
          "base_uri": "https://localhost:8080/"
        },
        "id": "qdKmZB-81MMp",
        "outputId": "eec82005-50bb-4b91-a991-c9ded574bf8e"
      },
      "execution_count": 42,
      "outputs": [
        {
          "output_type": "stream",
          "name": "stdout",
          "text": [
            "23 Twitter\n"
          ]
        }
      ]
    },
    {
      "cell_type": "code",
      "source": [
        "# custom entities\n",
        "from spacy.tokens import Span\n",
        "\n",
        "s1 = Span(doc, 22, len(doc), label=\"ORG\")\n",
        "doc.set_ents([s1], default=\"unmodified\")\n",
        "\n",
        "for ent in doc.ents:\n",
        "    print(ent.text, \" | \", ent.label_)"
      ],
      "metadata": {
        "colab": {
          "base_uri": "https://localhost:8080/"
        },
        "id": "lCJ0PZK9y7Vj",
        "outputId": "5e867bd4-33c2-44d5-b46e-776a2af569a4"
      },
      "execution_count": 43,
      "outputs": [
        {
          "output_type": "stream",
          "name": "stdout",
          "text": [
            "Apple  |  ORG\n",
            "Tim Cook  |  PERSON\n",
            "London  |  GPE\n",
            "November 25, 2024  |  DATE\n",
            "the Royal Albert Hall  |  ORG\n",
            "on  |  ORG\n",
            "Twitter  |  ORG\n"
          ]
        }
      ]
    },
    {
      "cell_type": "code",
      "source": [
        "import nltk\n",
        "nltk.download('punkt')\n",
        "nltk.download('averaged_perceptron_tagger')\n",
        "nltk.download('maxent_ne_chunker')\n",
        "nltk.download('words')"
      ],
      "metadata": {
        "colab": {
          "base_uri": "https://localhost:8080/"
        },
        "id": "dzVvaa8u2PMo",
        "outputId": "b5c822d9-d8ab-4e51-f199-400869dbdbd6"
      },
      "execution_count": 53,
      "outputs": [
        {
          "output_type": "stream",
          "name": "stderr",
          "text": [
            "[nltk_data] Downloading package punkt to /root/nltk_data...\n",
            "[nltk_data]   Package punkt is already up-to-date!\n",
            "[nltk_data] Downloading package averaged_perceptron_tagger to\n",
            "[nltk_data]     /root/nltk_data...\n",
            "[nltk_data]   Package averaged_perceptron_tagger is already up-to-\n",
            "[nltk_data]       date!\n",
            "[nltk_data] Downloading package maxent_ne_chunker to\n",
            "[nltk_data]     /root/nltk_data...\n",
            "[nltk_data]   Package maxent_ne_chunker is already up-to-date!\n",
            "[nltk_data] Downloading package words to /root/nltk_data...\n",
            "[nltk_data]   Unzipping corpora/words.zip.\n"
          ]
        },
        {
          "output_type": "execute_result",
          "data": {
            "text/plain": [
              "True"
            ]
          },
          "metadata": {},
          "execution_count": 53
        }
      ]
    },
    {
      "cell_type": "code",
      "source": [
        "from nltk import word_tokenize, pos_tag\n",
        "from nltk.chunk import ne_chunk\n",
        "\n",
        "# Text input\n",
        "text = \"Apple's CEO 'Tim Cook' will visit London on November 25, 2024, and posted something about the Royal Albert Hall on Twitter\"\n",
        "\n",
        "# Tokenize, POS tag and perform NER\n",
        "tokens = word_tokenize(text)\n",
        "tags = pos_tag(tokens)\n",
        "tree = ne_chunk(tags)\n",
        "\n",
        "# Extract named entities\n",
        "for subtree in tree:\n",
        "    if isinstance(subtree, nltk.Tree):  # Check if the subtree is a named entity\n",
        "        entity = \" \".join([word for word, tag in subtree])\n",
        "        label = subtree.label()  # Organization, Location, etc.\n",
        "        print(entity, \" | \", label)\n"
      ],
      "metadata": {
        "colab": {
          "base_uri": "https://localhost:8080/"
        },
        "id": "v3VLocEi2Ewu",
        "outputId": "b73da5ad-cc15-4c73-8aa1-799f2f6bd89c"
      },
      "execution_count": 70,
      "outputs": [
        {
          "output_type": "stream",
          "name": "stdout",
          "text": [
            "Apple  |  GPE\n",
            "CEO  |  ORGANIZATION\n",
            "Cook  |  PERSON\n",
            "London  |  GPE\n",
            "Royal  |  ORGANIZATION\n",
            "Albert Hall  |  PERSON\n"
          ]
        }
      ]
    },
    {
      "cell_type": "code",
      "source": [
        "import nltk\n",
        "from nltk.tokenize import RegexpTokenizer\n",
        "from nltk import pos_tag\n",
        "from nltk.chunk import ne_chunk\n",
        "\n",
        "text = \"Apple CEO Tim Cook will visit London on November 25, 2024, and posted something about the Royal Albert Hall on Twitter\"\n",
        "\n",
        "multi_token_entities = {\n",
        "    \"Royal Albert Hall\": \"ROYAL_ALBERT_HALL\",\n",
        "    \"Twitter\": \"TWITTER\"\n",
        "}\n",
        "\n",
        "for entity, placeholder in multi_token_entities.items():\n",
        "    text = text.replace(entity, placeholder)\n",
        "\n",
        "# Step 2: Custom tokenizer using a regular expression tokenizer\n",
        "tokenizer = RegexpTokenizer(r'\\s|[.,!?;()]|[A-Za-z0-9_]+')\n",
        "tokens = tokenizer.tokenize(text)\n",
        "tokens = [token.replace(\"ROYAL_ALBERT_HALL\", \"Royal Albert Hall\").replace(\"TWITTER\", \"Twitter\") for token in tokens]\n",
        "print(tokens)\n",
        "\n",
        "tags = pos_tag(tokens)  # POS tagging\n",
        "tree = ne_chunk(tags)   # Named Entity Recognition (NER)\n",
        "\n",
        "# Step 6: Extract named entities\n",
        "for subtree in tree:\n",
        "    if isinstance(subtree, nltk.Tree):  # Check if the subtree is a named entity\n",
        "        entity = \" \".join([word for word, tag in subtree])\n",
        "        label = subtree.label()  # Organization, Location, etc.\n",
        "        print(entity, \" | \", label)\n"
      ],
      "metadata": {
        "colab": {
          "base_uri": "https://localhost:8080/"
        },
        "id": "fJPnHrWB2K0e",
        "outputId": "8045620e-cbae-4de5-e1fe-869b62d99272"
      },
      "execution_count": 62,
      "outputs": [
        {
          "output_type": "stream",
          "name": "stdout",
          "text": [
            "['Apple', ' ', 'CEO', ' ', 'Tim', ' ', 'Cook', ' ', 'will', ' ', 'visit', ' ', 'London', ' ', 'on', ' ', 'November', ' ', '25', ',', ' ', '2024', ',', ' ', 'and', ' ', 'posted', ' ', 'something', ' ', 'about', ' ', 'the', ' ', 'Royal Albert Hall', ' ', 'on', ' ', 'Twitter']\n",
            "Apple  |  PERSON\n"
          ]
        }
      ]
    }
  ]
}